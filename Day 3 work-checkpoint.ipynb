{
 "cells": [
  {
   "cell_type": "code",
   "execution_count": 2,
   "metadata": {},
   "outputs": [
    {
     "name": "stdout",
     "output_type": "stream",
     "text": [
      "(-2-2j)\n"
     ]
    }
   ],
   "source": [
    "a=3+4j\n",
    "b=5+6j\n",
    "print(a-b)"
   ]
  },
  {
   "cell_type": "code",
   "execution_count": 3,
   "metadata": {},
   "outputs": [
    {
     "name": "stdout",
     "output_type": "stream",
     "text": [
      "enter number64\n",
      "16.0\n"
     ]
    }
   ],
   "source": [
    "x=int(input(\"enter number\"))\n",
    "y=x**1/4\n",
    "print(y)"
   ]
  },
  {
   "cell_type": "code",
   "execution_count": 7,
   "metadata": {},
   "outputs": [
    {
     "name": "stdout",
     "output_type": "stream",
     "text": [
      "original number 5 6\n",
      "swapped number 6 5\n"
     ]
    }
   ],
   "source": [
    "a=5\n",
    "b=6\n",
    "print(\"original number\",a,b)\n",
    "swap=a\n",
    "a=b\n",
    "b=swap\n",
    "print(\"swapped number\",a,b)\n"
   ]
  },
  {
   "cell_type": "code",
   "execution_count": 15,
   "metadata": {},
   "outputs": [
    {
     "name": "stdout",
     "output_type": "stream",
     "text": [
      "original number 2 3\n",
      "swapped numbers 3 2\n"
     ]
    }
   ],
   "source": [
    "a=2\n",
    "b=3\n",
    "print(\"original number\",a,b)\n",
    "a,b=b,a\n",
    "print(\"swapped numbers\",a,b)\n"
   ]
  },
  {
   "cell_type": "markdown",
   "metadata": {},
   "source": [
    "temp=int(input(\"enter temperature in fahrenheit"
   ]
  }
 ],
 "metadata": {
  "kernelspec": {
   "display_name": "Python 3",
   "language": "python",
   "name": "python3"
  },
  "language_info": {
   "codemirror_mode": {
    "name": "ipython",
    "version": 3
   },
   "file_extension": ".py",
   "mimetype": "text/x-python",
   "name": "python",
   "nbconvert_exporter": "python",
   "pygments_lexer": "ipython3",
   "version": "3.8.3"
  }
 },
 "nbformat": 4,
 "nbformat_minor": 4
}
